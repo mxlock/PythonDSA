{
 "cells": [
  {
   "cell_type": "code",
   "execution_count": 3,
   "id": "901ecd36",
   "metadata": {},
   "outputs": [
    {
     "name": "stdout",
     "output_type": "stream",
     "text": [
      "Bem-vindo ao calculador de área de paralelograma\n"
     ]
    }
   ],
   "source": [
    "print(\"Bem-vindo ao calculador de área de paralelograma\")"
   ]
  },
  {
   "cell_type": "code",
   "execution_count": 4,
   "id": "d31bd85a",
   "metadata": {},
   "outputs": [
    {
     "name": "stdout",
     "output_type": "stream",
     "text": [
      "Insira o comprimento da base: 10\n"
     ]
    }
   ],
   "source": [
    "base = float(input(\"Insira o comprimento da base: \"))"
   ]
  },
  {
   "cell_type": "code",
   "execution_count": null,
   "id": "129445a7",
   "metadata": {},
   "outputs": [],
   "source": [
    "print(\"A área d paralelograma é: \" , area)"
   ]
  },
  {
   "cell_type": "code",
   "execution_count": 6,
   "id": "004462ee",
   "metadata": {},
   "outputs": [
    {
     "name": "stdout",
     "output_type": "stream",
     "text": [
      "Insira a altura: 10\n"
     ]
    }
   ],
   "source": [
    "altura = float(input(\"Insira a altura: \"))"
   ]
  },
  {
   "cell_type": "code",
   "execution_count": 8,
   "id": "10028a0d",
   "metadata": {},
   "outputs": [],
   "source": [
    "area = base * altura"
   ]
  },
  {
   "cell_type": "code",
   "execution_count": 14,
   "id": "b6e09881",
   "metadata": {},
   "outputs": [
    {
     "name": "stdout",
     "output_type": "stream",
     "text": [
      "A área do parelelograma é: 100 metros quadrados\n"
     ]
    }
   ],
   "source": [
    "print(\"A área do parelelograma é:\" , round(area) , \"metros quadrados\")"
   ]
  },
  {
   "cell_type": "markdown",
   "id": "63038e4d",
   "metadata": {},
   "source": [
    "<h1>Calculadora simples em Python</h1>"
   ]
  },
  {
   "cell_type": "code",
   "execution_count": 24,
   "id": "3a15c3c0",
   "metadata": {},
   "outputs": [
    {
     "name": "stdout",
     "output_type": "stream",
     "text": [
      "Bem-vindo a Calculadora \n"
     ]
    }
   ],
   "source": [
    "print(\"Bem-vindo a Calculadora \")"
   ]
  },
  {
   "cell_type": "code",
   "execution_count": 25,
   "id": "186c3346",
   "metadata": {},
   "outputs": [
    {
     "name": "stdout",
     "output_type": "stream",
     "text": [
      "Insira o primeiro número: 10\n"
     ]
    }
   ],
   "source": [
    "num1 = float(input(\"Insira o primeiro número: \"))"
   ]
  },
  {
   "cell_type": "code",
   "execution_count": 26,
   "id": "1a9399cf",
   "metadata": {},
   "outputs": [
    {
     "name": "stdout",
     "output_type": "stream",
     "text": [
      "Insira o segundo número: 10\n"
     ]
    }
   ],
   "source": [
    "num2 = float(input(\"Insira o segundo número: \"))"
   ]
  },
  {
   "cell_type": "code",
   "execution_count": 27,
   "id": "fea501bd",
   "metadata": {},
   "outputs": [
    {
     "name": "stdout",
     "output_type": "stream",
     "text": [
      "Selecione uma operação: (+ , - , * , /) :+\n"
     ]
    }
   ],
   "source": [
    "op = input(\"Selecione uma operação: (+ , - , * , /) :\")"
   ]
  },
  {
   "cell_type": "code",
   "execution_count": 29,
   "id": "430a6370",
   "metadata": {},
   "outputs": [
    {
     "name": "stdout",
     "output_type": "stream",
     "text": [
      "O resultado é:  20.0\n"
     ]
    }
   ],
   "source": [
    "if op == \"+\":\n",
    "    result = num1 + num2\n",
    "    print(\"O resultado é: \" , result)\n",
    "    \n",
    "elif op == \"-\":\n",
    "    result = num1 - num2\n",
    "    print(\"O resultado é: \" , result)\n",
    "    \n",
    "elif op == \"*\":\n",
    "    result = num1 * num2\n",
    "    print(\"O resultado é: \" , result)\n",
    "    \n",
    "else:\n",
    "    print(\"O resultado é: \", (num1 / num2))"
   ]
  },
  {
   "cell_type": "markdown",
   "id": "91799e0e",
   "metadata": {},
   "source": [
    "<h1>Agoritmo bubble sort</h1>"
   ]
  },
  {
   "cell_type": "code",
   "execution_count": 32,
   "id": "19cb1c57",
   "metadata": {},
   "outputs": [],
   "source": [
    "#Considere esta lista como exemplo para ordenação com o Bubble Sort\n",
    "lista1 = [6, 3, 12, 7]"
   ]
  },
  {
   "cell_type": "code",
   "execution_count": 33,
   "id": "89f37f6d",
   "metadata": {},
   "outputs": [],
   "source": [
    "#Primeira passada do algoritmo (Troca dos elementos 6 e 3 de lugar)\n",
    "lista2 = [3 , 6, 12, 7]"
   ]
  },
  {
   "cell_type": "code",
   "execution_count": 43,
   "id": "ee1cdcc2",
   "metadata": {},
   "outputs": [],
   "source": [
    "#Segunda passada do algoritmo (não tem troca entre 6 e 12)\n",
    "lista3 = [3 , 6 , 12 ,7]"
   ]
  },
  {
   "cell_type": "code",
   "execution_count": 44,
   "id": "e71c234a",
   "metadata": {},
   "outputs": [],
   "source": [
    "lista = [15, 34, 22, 67, 6, 45, 29, 56, 12, 37, 18, 50, 9, 42, 27, 61, 14, 33, 48, 7]"
   ]
  },
  {
   "cell_type": "code",
   "execution_count": 49,
   "id": "d8b5c0b0",
   "metadata": {},
   "outputs": [],
   "source": [
    "def bubble_sort(arr):\n",
    "    n = len(arr)\n",
    "    \n",
    "    # Para cada elemento i do array\n",
    "    for i in range(n):\n",
    "        \n",
    "        # Para cada elemento j do array até o penúltimo não ordenado\n",
    "        for j in range(0, n-i-1):\n",
    "            \n",
    "            # Se o elemento j for maior que o elemento j+1\n",
    "            if arr[j] > arr[j+1]:\n",
    "                \n",
    "                # Troque os elementos j e j+1\n",
    "                arr[j], arr[j+1] = arr[j+1], arr[j]\n",
    "    return arr"
   ]
  },
  {
   "cell_type": "code",
   "execution_count": 50,
   "id": "b8b3b93d",
   "metadata": {},
   "outputs": [
    {
     "name": "stdout",
     "output_type": "stream",
     "text": [
      "[6, 7, 9, 12, 14, 15, 18, 22, 27, 29, 33, 34, 37, 42, 45, 48, 50, 56, 61, 67]\n"
     ]
    }
   ],
   "source": [
    "print(bubble_sort(lista))"
   ]
  },
  {
   "cell_type": "code",
   "execution_count": null,
   "id": "b593c5f0",
   "metadata": {},
   "outputs": [],
   "source": []
  }
 ],
 "metadata": {
  "kernelspec": {
   "display_name": "Python 3 (ipykernel)",
   "language": "python",
   "name": "python3"
  },
  "language_info": {
   "codemirror_mode": {
    "name": "ipython",
    "version": 3
   },
   "file_extension": ".py",
   "mimetype": "text/x-python",
   "name": "python",
   "nbconvert_exporter": "python",
   "pygments_lexer": "ipython3",
   "version": "3.9.13"
  }
 },
 "nbformat": 4,
 "nbformat_minor": 5
}
